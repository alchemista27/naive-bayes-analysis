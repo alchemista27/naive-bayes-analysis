{
 "cells": [
  {
   "cell_type": "code",
   "execution_count": 2,
   "id": "f6c3f1e9-50a5-4221-bfef-e92a0925316c",
   "metadata": {},
   "outputs": [],
   "source": [
    "# import libraries\n",
    "import pandas as pd\n",
    "import numpy as np\n",
    "import seaborn as sns\n",
    "import matplotlib.pyplot as plt\n",
    "import re\n",
    "from google_play_scraper import Sort, app, reviews"
   ]
  },
  {
   "cell_type": "code",
   "execution_count": 3,
   "id": "140fa2b1-0f0f-4460-add4-1b66f0981134",
   "metadata": {},
   "outputs": [],
   "source": [
    "# Initialize the data crawler\n",
    "rvws, token = reviews(\n",
    "    app_id='free.vpn.unblock.proxy.turbovpn',\n",
    "    lang='id',\n",
    "    country='id',\n",
    "    count=500,\n",
    "    sort= Sort.MOST_RELEVANT,\n",
    "    filter_score_with= None\n",
    ")"
   ]
  },
  {
   "cell_type": "code",
   "execution_count": 6,
   "id": "b44bc8b7-5e8a-45a9-b69c-ce3e856c70b2",
   "metadata": {},
   "outputs": [
    {
     "data": {
      "text/plain": [
       "(500, 11)"
      ]
     },
     "execution_count": 6,
     "metadata": {},
     "output_type": "execute_result"
    }
   ],
   "source": [
    "# Assign the data to a Dataframe object\n",
    "raw_data = pd.DataFrame(rvws)\n",
    "raw_data.shape"
   ]
  },
  {
   "cell_type": "code",
   "execution_count": 7,
   "id": "3dc1a682-76d7-4bf3-9655-cd7bf3d9032d",
   "metadata": {},
   "outputs": [
    {
     "name": "stdout",
     "output_type": "stream",
     "text": [
      "<class 'pandas.core.frame.DataFrame'>\n",
      "RangeIndex: 500 entries, 0 to 499\n",
      "Data columns (total 11 columns):\n",
      " #   Column                Non-Null Count  Dtype         \n",
      "---  ------                --------------  -----         \n",
      " 0   reviewId              500 non-null    object        \n",
      " 1   userName              500 non-null    object        \n",
      " 2   userImage             500 non-null    object        \n",
      " 3   content               500 non-null    object        \n",
      " 4   score                 500 non-null    int64         \n",
      " 5   thumbsUpCount         500 non-null    int64         \n",
      " 6   reviewCreatedVersion  487 non-null    object        \n",
      " 7   at                    500 non-null    datetime64[ns]\n",
      " 8   replyContent          188 non-null    object        \n",
      " 9   repliedAt             188 non-null    datetime64[ns]\n",
      " 10  appVersion            487 non-null    object        \n",
      "dtypes: datetime64[ns](2), int64(2), object(7)\n",
      "memory usage: 43.1+ KB\n"
     ]
    }
   ],
   "source": [
    "# Checking the data columns\n",
    "raw_data.info()"
   ]
  },
  {
   "cell_type": "code",
   "execution_count": 8,
   "id": "55260ee2-15c4-4d51-bb81-9c1454701fb9",
   "metadata": {},
   "outputs": [
    {
     "data": {
      "text/html": [
       "<div>\n",
       "<style scoped>\n",
       "    .dataframe tbody tr th:only-of-type {\n",
       "        vertical-align: middle;\n",
       "    }\n",
       "\n",
       "    .dataframe tbody tr th {\n",
       "        vertical-align: top;\n",
       "    }\n",
       "\n",
       "    .dataframe thead th {\n",
       "        text-align: right;\n",
       "    }\n",
       "</style>\n",
       "<table border=\"1\" class=\"dataframe\">\n",
       "  <thead>\n",
       "    <tr style=\"text-align: right;\">\n",
       "      <th></th>\n",
       "      <th>userName</th>\n",
       "      <th>content</th>\n",
       "      <th>score</th>\n",
       "      <th>at</th>\n",
       "    </tr>\n",
       "  </thead>\n",
       "  <tbody>\n",
       "    <tr>\n",
       "      <th>0</th>\n",
       "      <td>Raudatus Syifa</td>\n",
       "      <td>Sangat berguna buat masuk ke situs yang susah ...</td>\n",
       "      <td>5</td>\n",
       "      <td>2024-03-20 16:39:28</td>\n",
       "    </tr>\n",
       "    <tr>\n",
       "      <th>1</th>\n",
       "      <td>Kadek Eka</td>\n",
       "      <td>Apk sampah jaringannya lemot terus iklan diman...</td>\n",
       "      <td>1</td>\n",
       "      <td>2024-03-17 20:26:21</td>\n",
       "    </tr>\n",
       "    <tr>\n",
       "      <th>2</th>\n",
       "      <td>Wira Zizo Gladi</td>\n",
       "      <td>Kenapa dia gak hilang dari status bar ya?? Man...</td>\n",
       "      <td>1</td>\n",
       "      <td>2024-02-24 18:21:40</td>\n",
       "    </tr>\n",
       "    <tr>\n",
       "      <th>3</th>\n",
       "      <td>Jaja Subagja</td>\n",
       "      <td>Bintang5pasti dong selama Saya menggunakan VPN...</td>\n",
       "      <td>5</td>\n",
       "      <td>2024-03-20 01:37:41</td>\n",
       "    </tr>\n",
       "    <tr>\n",
       "      <th>4</th>\n",
       "      <td>TIm Balu</td>\n",
       "      <td>Masalah nya suka putus2 sendiri VPN nya..!!20 ...</td>\n",
       "      <td>1</td>\n",
       "      <td>2024-03-04 06:43:44</td>\n",
       "    </tr>\n",
       "    <tr>\n",
       "      <th>...</th>\n",
       "      <td>...</td>\n",
       "      <td>...</td>\n",
       "      <td>...</td>\n",
       "      <td>...</td>\n",
       "    </tr>\n",
       "    <tr>\n",
       "      <th>495</th>\n",
       "      <td>Feri Hermawan</td>\n",
       "      <td>Lancar jaya sedikit iklan wajar</td>\n",
       "      <td>5</td>\n",
       "      <td>2024-02-08 08:21:48</td>\n",
       "    </tr>\n",
       "    <tr>\n",
       "      <th>496</th>\n",
       "      <td>Irmank Manl</td>\n",
       "      <td>aplikasi nya sangat bermanfaat dan bagus saat ...</td>\n",
       "      <td>5</td>\n",
       "      <td>2024-03-18 14:11:40</td>\n",
       "    </tr>\n",
       "    <tr>\n",
       "      <th>497</th>\n",
       "      <td>Nurul Laili</td>\n",
       "      <td>Bagus tp iklannya bnyak</td>\n",
       "      <td>4</td>\n",
       "      <td>2024-03-16 13:44:31</td>\n",
       "    </tr>\n",
       "    <tr>\n",
       "      <th>498</th>\n",
       "      <td>pak Katim</td>\n",
       "      <td>Bagus nih jaringan nya tiada nge. Like</td>\n",
       "      <td>5</td>\n",
       "      <td>2024-02-29 13:51:38</td>\n",
       "    </tr>\n",
       "    <tr>\n",
       "      <th>499</th>\n",
       "      <td>Oni Parlina</td>\n",
       "      <td>Mudah dipakai dan sangat membantu sekali...</td>\n",
       "      <td>5</td>\n",
       "      <td>2024-03-19 20:04:46</td>\n",
       "    </tr>\n",
       "  </tbody>\n",
       "</table>\n",
       "<p>500 rows × 4 columns</p>\n",
       "</div>"
      ],
      "text/plain": [
       "            userName                                            content  \\\n",
       "0     Raudatus Syifa  Sangat berguna buat masuk ke situs yang susah ...   \n",
       "1          Kadek Eka  Apk sampah jaringannya lemot terus iklan diman...   \n",
       "2    Wira Zizo Gladi  Kenapa dia gak hilang dari status bar ya?? Man...   \n",
       "3       Jaja Subagja  Bintang5pasti dong selama Saya menggunakan VPN...   \n",
       "4           TIm Balu  Masalah nya suka putus2 sendiri VPN nya..!!20 ...   \n",
       "..               ...                                                ...   \n",
       "495    Feri Hermawan                    Lancar jaya sedikit iklan wajar   \n",
       "496      Irmank Manl  aplikasi nya sangat bermanfaat dan bagus saat ...   \n",
       "497      Nurul Laili                            Bagus tp iklannya bnyak   \n",
       "498        pak Katim             Bagus nih jaringan nya tiada nge. Like   \n",
       "499      Oni Parlina        Mudah dipakai dan sangat membantu sekali...   \n",
       "\n",
       "     score                  at  \n",
       "0        5 2024-03-20 16:39:28  \n",
       "1        1 2024-03-17 20:26:21  \n",
       "2        1 2024-02-24 18:21:40  \n",
       "3        5 2024-03-20 01:37:41  \n",
       "4        1 2024-03-04 06:43:44  \n",
       "..     ...                 ...  \n",
       "495      5 2024-02-08 08:21:48  \n",
       "496      5 2024-03-18 14:11:40  \n",
       "497      4 2024-03-16 13:44:31  \n",
       "498      5 2024-02-29 13:51:38  \n",
       "499      5 2024-03-19 20:04:46  \n",
       "\n",
       "[500 rows x 4 columns]"
      ]
     },
     "execution_count": 8,
     "metadata": {},
     "output_type": "execute_result"
    }
   ],
   "source": [
    "# Selecting the data\n",
    "df = raw_data[['userName', 'content', 'score', 'at']]\n",
    "df"
   ]
  },
  {
   "cell_type": "code",
   "execution_count": 12,
   "id": "0cec6ac9-272a-4f9c-bf9d-6c48cb6fa7fb",
   "metadata": {},
   "outputs": [
    {
     "name": "stderr",
     "output_type": "stream",
     "text": [
      "/tmp/ipykernel_4326/3090650442.py:8: SettingWithCopyWarning: \n",
      "A value is trying to be set on a copy of a slice from a DataFrame.\n",
      "Try using .loc[row_indexer,col_indexer] = value instead\n",
      "\n",
      "See the caveats in the documentation: https://pandas.pydata.org/pandas-docs/stable/user_guide/indexing.html#returning-a-view-versus-a-copy\n",
      "  df['content'] = df['content'].apply(clean_text)\n",
      "/tmp/ipykernel_4326/3090650442.py:9: SettingWithCopyWarning: \n",
      "A value is trying to be set on a copy of a slice from a DataFrame.\n",
      "Try using .loc[row_indexer,col_indexer] = value instead\n",
      "\n",
      "See the caveats in the documentation: https://pandas.pydata.org/pandas-docs/stable/user_guide/indexing.html#returning-a-view-versus-a-copy\n",
      "  df['content'] = df['content'].str.lower()\n"
     ]
    }
   ],
   "source": [
    "# Cleaning the text data\n",
    "import demoji\n",
    "\n",
    "def clean_text(text):\n",
    "    text = demoji.replace(text, '')\n",
    "    return text\n",
    "\n",
    "df['content'] = df['content'].apply(clean_text)\n",
    "df['content'] = df['content'].str.lower()\n",
    "df\n",
    "\n",
    "\n",
    "# Save the data to csv\n",
    "df.to_csv('turbo-vpn-reviews.csv', index=False)"
   ]
  },
  {
   "cell_type": "code",
   "execution_count": null,
   "id": "e091df97-1c8c-46f4-8d95-163382fb648b",
   "metadata": {},
   "outputs": [],
   "source": []
  }
 ],
 "metadata": {
  "kernelspec": {
   "display_name": "Python 3 (ipykernel)",
   "language": "python",
   "name": "python3"
  },
  "language_info": {
   "codemirror_mode": {
    "name": "ipython",
    "version": 3
   },
   "file_extension": ".py",
   "mimetype": "text/x-python",
   "name": "python",
   "nbconvert_exporter": "python",
   "pygments_lexer": "ipython3",
   "version": "3.11.7"
  }
 },
 "nbformat": 4,
 "nbformat_minor": 5
}
